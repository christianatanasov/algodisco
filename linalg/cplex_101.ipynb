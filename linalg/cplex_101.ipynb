{
 "cells": [
  {
   "cell_type": "markdown",
   "metadata": {},
   "source": [
    "The CPLEX optimizer is an IBM software package for solving convex optimization problems, named after the simplex method. Popular for linear programming, this notebook should show a simple example of how to use the cplex API."
   ]
  },
  {
   "cell_type": "code",
   "execution_count": 1,
   "metadata": {},
   "outputs": [],
   "source": [
    "import cplex"
   ]
  },
  {
   "cell_type": "markdown",
   "metadata": {},
   "source": [
    "Maximize $p=x_1 + 2x_2 - x_3$"
   ]
  },
  {
   "cell_type": "code",
   "execution_count": 2,
   "metadata": {},
   "outputs": [
    {
     "name": "stdout",
     "output_type": "stream",
     "text": [
      "['x1', 'x2', 'x3']\n"
     ]
    }
   ],
   "source": [
    "c = cplex.Cplex()\n",
    "c.variables.add(names=['x1', 'x2', 'x3'])\n",
    "print(c.variables.get_names())\n",
    "\n",
    "c.objective.set_linear([('x1', 1), ('x2', 2), ('x3', -1)])\n",
    "c.objective.set_sense(c.objective.sense.maximize)"
   ]
  },
  {
   "cell_type": "markdown",
   "metadata": {},
   "source": [
    "s.t. $x_1, x_2, x_3 \\geq 0$ We have 6 constraints in total, the other 3 are written separately."
   ]
  },
  {
   "cell_type": "code",
   "execution_count": 3,
   "metadata": {},
   "outputs": [
    {
     "data": {
      "text/plain": [
       "range(0, 3)"
      ]
     },
     "execution_count": 3,
     "metadata": {},
     "output_type": "execute_result"
    }
   ],
   "source": [
    "var_constraints = [cplex.SparsePair(ind=[v], val=[1]) for v in c.variables.get_names()]\n",
    "c.linear_constraints.add(lin_expr=var_constraints, senses=['G']*3, rhs=[0,0,0], names=['c1', 'c2', 'c3'])"
   ]
  },
  {
   "cell_type": "markdown",
   "metadata": {},
   "source": [
    "$2x_1 + x_2 + x_3 \\leq 14$"
   ]
  },
  {
   "cell_type": "code",
   "execution_count": 4,
   "metadata": {},
   "outputs": [
    {
     "data": {
      "text/plain": [
       "range(3, 4)"
      ]
     },
     "execution_count": 4,
     "metadata": {},
     "output_type": "execute_result"
    }
   ],
   "source": [
    "c4 = cplex.SparsePair(['x1', 'x2', 'x3'], [2, 1, 1])\n",
    "c.linear_constraints.add(lin_expr=[c4], senses=['L'], rhs=[14], names=['c4'])"
   ]
  },
  {
   "cell_type": "markdown",
   "metadata": {},
   "source": [
    "$4x_1 + 2x_2 + 3x_3 \\leq 28$"
   ]
  },
  {
   "cell_type": "code",
   "execution_count": 5,
   "metadata": {},
   "outputs": [
    {
     "data": {
      "text/plain": [
       "range(4, 5)"
      ]
     },
     "execution_count": 5,
     "metadata": {},
     "output_type": "execute_result"
    }
   ],
   "source": [
    "c5 = cplex.SparsePair(c.variables.get_names(), [4, 2, 3])\n",
    "c.linear_constraints.add(lin_expr=[c5], senses=['L'], rhs=[28], names=['c5'])"
   ]
  },
  {
   "cell_type": "markdown",
   "metadata": {},
   "source": [
    "$2x_1 + 5x_2 + 5x_3 \\leq 30$"
   ]
  },
  {
   "cell_type": "code",
   "execution_count": 6,
   "metadata": {},
   "outputs": [
    {
     "data": {
      "text/plain": [
       "range(5, 6)"
      ]
     },
     "execution_count": 6,
     "metadata": {},
     "output_type": "execute_result"
    }
   ],
   "source": [
    "c6 = cplex.SparsePair(c.variables.get_names(), [2, 5, 5])\n",
    "c.linear_constraints.add(lin_expr=[c6], senses=['L'], rhs=[30], names=['c6'])"
   ]
  },
  {
   "cell_type": "code",
   "execution_count": 7,
   "metadata": {},
   "outputs": [
    {
     "name": "stdout",
     "output_type": "stream",
     "text": [
      "Version identifier: 20.1.0.0 | 2020-11-11 | 9bedb6d68\n",
      "CPXPARAM_Read_DataCheck                          1\n",
      "Tried aggregator 1 time.\n",
      "LP Presolve eliminated 4 rows and 1 columns.\n",
      "Reduced LP has 2 rows, 2 columns, and 4 nonzeros.\n",
      "Presolve time = 0.00 sec. (0.00 ticks)\n",
      "\n",
      "Iteration log . . .\n",
      "Iteration:     1   Dual infeasibility =             0.000000\n",
      "Iteration:     2   Dual objective     =            13.000000\n"
     ]
    }
   ],
   "source": [
    "c.solve()"
   ]
  },
  {
   "cell_type": "code",
   "execution_count": 8,
   "metadata": {},
   "outputs": [
    {
     "data": {
      "text/plain": [
       "[5.0, 4.0, 0.0]"
      ]
     },
     "execution_count": 8,
     "metadata": {},
     "output_type": "execute_result"
    }
   ],
   "source": [
    "c.solution.get_values()"
   ]
  },
  {
   "cell_type": "code",
   "execution_count": null,
   "metadata": {},
   "outputs": [],
   "source": []
  },
  {
   "cell_type": "code",
   "execution_count": null,
   "metadata": {},
   "outputs": [],
   "source": []
  }
 ],
 "metadata": {
  "kernelspec": {
   "display_name": "Python 3",
   "language": "python",
   "name": "python3"
  },
  "language_info": {
   "codemirror_mode": {
    "name": "ipython",
    "version": 3
   },
   "file_extension": ".py",
   "mimetype": "text/x-python",
   "name": "python",
   "nbconvert_exporter": "python",
   "pygments_lexer": "ipython3",
   "version": "3.8.5"
  }
 },
 "nbformat": 4,
 "nbformat_minor": 4
}
