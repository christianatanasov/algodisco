{
 "cells": [
  {
   "cell_type": "code",
   "execution_count": 1,
   "metadata": {},
   "outputs": [],
   "source": [
    "import itertools\n",
    "import numpy as np\n",
    "A = np.array([[1,2,3], [2,3,4], [1,1,1]])\n",
    "B = np.array([[4,5,6], [7,8,9], [4,5,7]])\n",
    "C = np.array([[1,2], [2,3], [1,1]])"
   ]
  },
  {
   "cell_type": "code",
   "execution_count": 2,
   "metadata": {},
   "outputs": [
    {
     "name": "stdout",
     "output_type": "stream",
     "text": [
      "A: \n",
      " [[1 2 3]\n",
      " [2 3 4]\n",
      " [1 1 1]]\n",
      "B: \n",
      " [[4 5 6]\n",
      " [7 8 9]\n",
      " [4 5 7]]\n",
      "C: \n",
      " [[1 2]\n",
      " [2 3]\n",
      " [1 1]]\n",
      "A+B: \n",
      " [[ 5  7  9]\n",
      " [ 9 11 13]\n",
      " [ 5  6  8]]\n",
      "B-A: \n",
      " [[3 3 3]\n",
      " [5 5 5]\n",
      " [3 4 6]]\n"
     ]
    }
   ],
   "source": [
    "print(\"A: \\n\", A)\n",
    "print(\"B: \\n\", B)\n",
    "print(\"C: \\n\", C)\n",
    "print(\"A+B: \\n\", A+B)\n",
    "print(\"B-A: \\n\", B-A)"
   ]
  },
  {
   "cell_type": "code",
   "execution_count": 3,
   "metadata": {},
   "outputs": [],
   "source": [
    "def matmul(A,B):\n",
    "    assert A.shape[1] == B.shape[0], \"Oh no, check matrices shape\"\n",
    "    result_items = []\n",
    "    for k in A:\n",
    "        for m in B.T:\n",
    "            result_items.append(np.sum(k*m))\n",
    "    return np.array(result_items).reshape(A.shape[0], B.shape[1])"
   ]
  },
  {
   "cell_type": "code",
   "execution_count": 4,
   "metadata": {},
   "outputs": [
    {
     "name": "stdout",
     "output_type": "stream",
     "text": [
      "B*C: \n",
      " [[20 29]\n",
      " [32 47]\n",
      " [21 30]]\n",
      "B*C check: True\n",
      "C*A:\n"
     ]
    },
    {
     "ename": "AssertionError",
     "evalue": "Oh no, check matrices shape",
     "output_type": "error",
     "traceback": [
      "\u001b[0;31m---------------------------------------------------------------------------\u001b[0m",
      "\u001b[0;31mAssertionError\u001b[0m                            Traceback (most recent call last)",
      "\u001b[0;32m<ipython-input-4-2e96b10298c6>\u001b[0m in \u001b[0;36m<module>\u001b[0;34m\u001b[0m\n\u001b[1;32m      2\u001b[0m \u001b[0mprint\u001b[0m\u001b[0;34m(\u001b[0m\u001b[0;34m\"B*C check:\"\u001b[0m\u001b[0;34m,\u001b[0m \u001b[0;34m(\u001b[0m\u001b[0mmatmul\u001b[0m\u001b[0;34m(\u001b[0m\u001b[0mB\u001b[0m\u001b[0;34m,\u001b[0m\u001b[0mC\u001b[0m\u001b[0;34m)\u001b[0m\u001b[0;34m==\u001b[0m\u001b[0mnp\u001b[0m\u001b[0;34m.\u001b[0m\u001b[0mmatmul\u001b[0m\u001b[0;34m(\u001b[0m\u001b[0mB\u001b[0m\u001b[0;34m,\u001b[0m\u001b[0mC\u001b[0m\u001b[0;34m)\u001b[0m\u001b[0;34m)\u001b[0m\u001b[0;34m.\u001b[0m\u001b[0mravel\u001b[0m\u001b[0;34m(\u001b[0m\u001b[0;34m)\u001b[0m\u001b[0;34m.\u001b[0m\u001b[0mall\u001b[0m\u001b[0;34m(\u001b[0m\u001b[0;34m)\u001b[0m\u001b[0;34m)\u001b[0m\u001b[0;34m\u001b[0m\u001b[0;34m\u001b[0m\u001b[0m\n\u001b[1;32m      3\u001b[0m \u001b[0mprint\u001b[0m\u001b[0;34m(\u001b[0m\u001b[0;34m\"C*A:\"\u001b[0m\u001b[0;34m)\u001b[0m\u001b[0;34m\u001b[0m\u001b[0;34m\u001b[0m\u001b[0m\n\u001b[0;32m----> 4\u001b[0;31m \u001b[0mprint\u001b[0m\u001b[0;34m(\u001b[0m\u001b[0mmatmul\u001b[0m\u001b[0;34m(\u001b[0m\u001b[0mC\u001b[0m\u001b[0;34m,\u001b[0m\u001b[0mA\u001b[0m\u001b[0;34m)\u001b[0m\u001b[0;34m)\u001b[0m\u001b[0;34m\u001b[0m\u001b[0;34m\u001b[0m\u001b[0m\n\u001b[0m",
      "\u001b[0;32m<ipython-input-3-5cfc6ccc9b49>\u001b[0m in \u001b[0;36mmatmul\u001b[0;34m(A, B)\u001b[0m\n\u001b[1;32m      1\u001b[0m \u001b[0;32mdef\u001b[0m \u001b[0mmatmul\u001b[0m\u001b[0;34m(\u001b[0m\u001b[0mA\u001b[0m\u001b[0;34m,\u001b[0m\u001b[0mB\u001b[0m\u001b[0;34m)\u001b[0m\u001b[0;34m:\u001b[0m\u001b[0;34m\u001b[0m\u001b[0;34m\u001b[0m\u001b[0m\n\u001b[0;32m----> 2\u001b[0;31m     \u001b[0;32massert\u001b[0m \u001b[0mA\u001b[0m\u001b[0;34m.\u001b[0m\u001b[0mshape\u001b[0m\u001b[0;34m[\u001b[0m\u001b[0;36m1\u001b[0m\u001b[0;34m]\u001b[0m \u001b[0;34m==\u001b[0m \u001b[0mB\u001b[0m\u001b[0;34m.\u001b[0m\u001b[0mshape\u001b[0m\u001b[0;34m[\u001b[0m\u001b[0;36m0\u001b[0m\u001b[0;34m]\u001b[0m\u001b[0;34m,\u001b[0m \u001b[0;34m\"Oh no, check matrices shape\"\u001b[0m\u001b[0;34m\u001b[0m\u001b[0;34m\u001b[0m\u001b[0m\n\u001b[0m\u001b[1;32m      3\u001b[0m     \u001b[0mresult_items\u001b[0m \u001b[0;34m=\u001b[0m \u001b[0;34m[\u001b[0m\u001b[0;34m]\u001b[0m\u001b[0;34m\u001b[0m\u001b[0;34m\u001b[0m\u001b[0m\n\u001b[1;32m      4\u001b[0m     \u001b[0;32mfor\u001b[0m \u001b[0mk\u001b[0m \u001b[0;32min\u001b[0m \u001b[0mA\u001b[0m\u001b[0;34m:\u001b[0m\u001b[0;34m\u001b[0m\u001b[0;34m\u001b[0m\u001b[0m\n\u001b[1;32m      5\u001b[0m         \u001b[0;32mfor\u001b[0m \u001b[0mm\u001b[0m \u001b[0;32min\u001b[0m \u001b[0mB\u001b[0m\u001b[0;34m.\u001b[0m\u001b[0mT\u001b[0m\u001b[0;34m:\u001b[0m\u001b[0;34m\u001b[0m\u001b[0;34m\u001b[0m\u001b[0m\n",
      "\u001b[0;31mAssertionError\u001b[0m: Oh no, check matrices shape"
     ]
    }
   ],
   "source": [
    "print(\"B*C: \\n\", matmul(B,C))\n",
    "print(\"B*C check:\", (matmul(B,C)==np.matmul(B,C)).ravel().all())\n",
    "print(\"C*A:\")\n",
    "print(matmul(C,A))"
   ]
  },
  {
   "cell_type": "markdown",
   "metadata": {},
   "source": [
    "$M^n$ nth power of a square matrix without diagonalization. $M^{100}$ below: $\\\\ $\n",
    "This only works for $M \\in \\{0,1\\}$ with only 1 change in the non-main diagonal. Check my other notebook for eigen approach."
   ]
  },
  {
   "cell_type": "code",
   "execution_count": 5,
   "metadata": {},
   "outputs": [],
   "source": [
    "M = np.array([[1,1,0], [0,1,0], [0,0,1]])"
   ]
  },
  {
   "cell_type": "code",
   "execution_count": 6,
   "metadata": {},
   "outputs": [],
   "source": [
    "def m_power(M,n): \n",
    "    d = matmul(M,M) - M\n",
    "    a = np.zeros(M.shape)\n",
    "    np.fill_diagonal(a, np.diag(M))\n",
    "    return a + (d * n)"
   ]
  },
  {
   "cell_type": "code",
   "execution_count": 7,
   "metadata": {},
   "outputs": [
    {
     "data": {
      "text/plain": [
       "array([[1, 1, 0],\n",
       "       [0, 1, 0],\n",
       "       [0, 0, 1]])"
      ]
     },
     "metadata": {},
     "output_type": "display_data"
    },
    {
     "data": {
      "text/plain": [
       "array([[  1., 100.,   0.],\n",
       "       [  0.,   1.,   0.],\n",
       "       [  0.,   0.,   1.]])"
      ]
     },
     "metadata": {},
     "output_type": "display_data"
    },
    {
     "data": {
      "text/plain": [
       "array([[  1, 100,   0],\n",
       "       [  0,   1,   0],\n",
       "       [  0,   0,   1]])"
      ]
     },
     "metadata": {},
     "output_type": "display_data"
    }
   ],
   "source": [
    "n = 100\n",
    "display(M)\n",
    "display(m_power(M, n))\n",
    "k = M.copy()\n",
    "for _ in range(n-1):\n",
    "    k = matmul(k, M)\n",
    "display(k)"
   ]
  },
  {
   "cell_type": "markdown",
   "metadata": {},
   "source": [
    "Determinant of a matrix:\n",
    "$\\\\ |A| = \\begin{vmatrix}\n",
    "a & b \\\\\n",
    "c & d\n",
    "\\end{vmatrix} = ad - bc$\n",
    "$\\\\ $\n",
    "$ |A| = \\begin{vmatrix}\n",
    "a & b & c \\\\\n",
    "d & e & f \\\\\n",
    "g & h & i \\\\\n",
    "\\end{vmatrix} = a(ei - fh) - b(di - fg) + c(dh - eg)  $"
   ]
  },
  {
   "cell_type": "code",
   "execution_count": 8,
   "metadata": {},
   "outputs": [],
   "source": [
    "def det(M):\n",
    "    assert M.shape[0] == M.shape[1], \"Oh no, non-square!\"\n",
    "    if M.shape == (2,2): return det_two_two(M)\n",
    "    D = 0\n",
    "    for x in list(itertools.product(range(M.shape[0]), range(M.shape[1])))[:M.shape[0]]:\n",
    "        sub_D = np.delete(np.delete(M, x[0], axis=0), x[1], axis=1)\n",
    "        el = M[x[0], x[1]] * {0 : 1, 1: -1}[x[1] % 2]\n",
    "        D += el * (det_two_two(sub_D) if sub_D.shape == (2,2) else det(sub_D))\n",
    "    return D\n",
    "\n",
    "def det_two_two(M):\n",
    "    assert M.shape == (2,2), \"Oh no, not 2x2\"\n",
    "    return np.diag(M, 0).prod() - (np.diag(M, 1) * np.diag(M, -1))[0]"
   ]
  },
  {
   "cell_type": "code",
   "execution_count": 9,
   "metadata": {},
   "outputs": [
    {
     "name": "stdout",
     "output_type": "stream",
     "text": [
      "[[13  0 -2  4]\n",
      " [ 2  1  0  5]\n",
      " [ 2  3  3 12]\n",
      " [ 1  2  3  4]]\n",
      "-99\n",
      "-98.99999999999999\n"
     ]
    }
   ],
   "source": [
    "M = np.array([[13,0,-2, 4], [2,1,0,5], [2,3,3,12], [1,2,3,4]])\n",
    "print(M)\n",
    "print(det(M))\n",
    "print(np.linalg.det(M))"
   ]
  },
  {
   "cell_type": "markdown",
   "metadata": {},
   "source": [
    "Adjugate of a 2x2 matrix:\n",
    "$\\\\ A = \\begin{vmatrix}\n",
    "a & b \\\\\n",
    "c & d\n",
    "\\end{vmatrix}; \\\\ adj(A) = \\begin{vmatrix}\n",
    "d & -b \\\\\n",
    "-c & a\n",
    "\\end{vmatrix}$"
   ]
  },
  {
   "cell_type": "code",
   "execution_count": 10,
   "metadata": {},
   "outputs": [
    {
     "name": "stdout",
     "output_type": "stream",
     "text": [
      "[[1 4]\n",
      " [2 1]]\n",
      "[[ 1 -4]\n",
      " [-2  1]]\n"
     ]
    }
   ],
   "source": [
    "def adj(M):\n",
    "    assert M.shape == (2,2), \"Only for 2x2 matrices\"\n",
    "    reverse_diag = np.diag(M,0)[::-1]\n",
    "    M = M * -1\n",
    "    np.fill_diagonal(M, reverse_diag)\n",
    "    return M\n",
    "M = np.random.randint(5, size=(2,2))\n",
    "print(M)\n",
    "print(adj(M))"
   ]
  },
  {
   "cell_type": "code",
   "execution_count": 11,
   "metadata": {},
   "outputs": [
    {
     "name": "stdout",
     "output_type": "stream",
     "text": [
      "[[ 0.27272727 -0.09090909]\n",
      " [ 0.45454545  0.18181818]]\n",
      "[[ 0.27272727 -0.09090909]\n",
      " [ 0.45454545  0.18181818]]\n",
      "[[1. 0.]\n",
      " [0. 1.]]\n"
     ]
    }
   ],
   "source": [
    "def inverse(M):\n",
    "    return 1 / det(M) * adj(M)\n",
    "A = np.array([[2, 1], [-5, 3]])\n",
    "print(inverse(A))\n",
    "print(np.linalg.inv(A))\n",
    "print(matmul(A, inverse(A)).round(0))"
   ]
  },
  {
   "cell_type": "markdown",
   "metadata": {},
   "source": [
    "Simple linear equation: $\\\\ 2x  + 1y = 15 \\\\ -5x + 3y = 10$ "
   ]
  },
  {
   "cell_type": "code",
   "execution_count": 12,
   "metadata": {},
   "outputs": [
    {
     "name": "stdout",
     "output_type": "stream",
     "text": [
      "[3.18181818 8.63636364]\n",
      "[15. 10.]\n"
     ]
    }
   ],
   "source": [
    "A = np.array([[2, 1], [-5, 3]])\n",
    "B = np.array([15, 10])\n",
    "solution = inverse(A) @ B\n",
    "print(solution)\n",
    "print((solution * A).sum(axis=1))"
   ]
  },
  {
   "cell_type": "code",
   "execution_count": null,
   "metadata": {},
   "outputs": [],
   "source": []
  }
 ],
 "metadata": {
  "kernelspec": {
   "display_name": "Python 3",
   "language": "python",
   "name": "python3"
  },
  "language_info": {
   "codemirror_mode": {
    "name": "ipython",
    "version": 3
   },
   "file_extension": ".py",
   "mimetype": "text/x-python",
   "name": "python",
   "nbconvert_exporter": "python",
   "pygments_lexer": "ipython3",
   "version": "3.8.5"
  }
 },
 "nbformat": 4,
 "nbformat_minor": 4
}
