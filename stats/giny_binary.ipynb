{
 "cells": [
  {
   "cell_type": "code",
   "execution_count": 24,
   "id": "750ce129-71f9-4f05-83db-ffe3e15c2f09",
   "metadata": {},
   "outputs": [],
   "source": [
    "import datetime, warnings\n",
    "import numpy as np\n",
    "import pandas as pd\n",
    "import matplotlib.pyplot as plt\n",
    "\n",
    "warnings.filterwarnings('ignore')"
   ]
  },
  {
   "cell_type": "markdown",
   "id": "44b5f9cd-3db2-44af-b806-02e4fc0adeb2",
   "metadata": {},
   "source": [
    "<b>Giny impurity $I_G(p)$</b> is an algorithm for classification trees. It measures how often a randomly chosen element of a set would be incorrectly labeled if it were labeled randomly and independently based on the distribution of the labels in the set. That is to say if we have 100 elements, 33 1s and 67 0s, Giny impurity measures how many more correct hits an algorithm can make compared to calling every third element 1. $$I_G(p) = 1 - \\sum_{i=1}^J p_i^2$$"
   ]
  },
  {
   "cell_type": "markdown",
   "id": "b2c914a1-eb6f-4492-b71c-49f0292a9ebc",
   "metadata": {},
   "source": [
    "In decision trees commonly information theoretic measures are used (such as entropy), in that sense the Giny impurity metric corresponds to Tsallis Entropy parametarized for $q=2$."
   ]
  },
  {
   "cell_type": "code",
   "execution_count": 25,
   "id": "e8732656-6f11-4201-b66a-5d7439d4cc79",
   "metadata": {},
   "outputs": [],
   "source": [
    "def gini(df, x_col, y_col):\n",
    "    \"\"\"\n",
    "    Gini impurity calculator for binary variables;\n",
    "    First step is to define all possible values (x) which could be decision making.\n",
    "    s_l and s_r are the two new states for <x< (called left and right here)\n",
    "    w_l and w_r are the weights or the sizes of the new states\n",
    "    t_l and t_r are the number of identifiers of type 1 in each of the states\n",
    "    f_l and f_r are the number of identifiers of type 0 in each of the states\n",
    "    Gini impurity is calculated for both states - gi_l and gi_r\n",
    "    The result for the given value of decision is the weighted average of gi_l,gi_r with w_l,w_r\n",
    "    The minimum impurity (cost) is chosen minimising disorder, and a decision making value is returned.\n",
    "    \"\"\"\n",
    "    x = sorted(df[x_col].rolling(2).mean().dropna().unique())\n",
    "    y_len = len(df[y_col])\n",
    "    impurity_vals = pd.DataFrame(columns=['DECISION_VALUE', 'IMPURITY'])\n",
    "    for val in x:\n",
    "        try:\n",
    "            s_l, s_r = [x for _, x in df.groupby(df[x_col] < val)]\n",
    "            w_l, w_r = [x.shape[0] for x in [s_l, s_r]]\n",
    "            t_l, t_r = [x[y_col].sum() for x in [s_l, s_r]]\n",
    "            f_l, f_r = w_l - t_l, w_r - t_r\n",
    "            gi_l = 1 - np.power(t_l / w_l, 2) - np.power(f_l / w_l, 2)\n",
    "            gi_r = 1 - np.power(t_r / w_r, 2) - np.power(f_r / w_r, 2)\n",
    "            gi = (w_l / y_len) * gi_l + (w_r / y_len) * gi_r\n",
    "            impurity_vals = impurity_vals.append(pd.DataFrame({'DECISION_VALUE' : [val], 'IMPURITY' : [gi]})) #Append here inefficient but cleaner\n",
    "        except:\n",
    "            pass #Manages machine precision error when a branch is not splittable\n",
    "    gini_impurity = impurity_vals.loc[impurity_vals['IMPURITY']==impurity_vals['IMPURITY'].min()].groupby('IMPURITY', as_index=False).mean()\n",
    "    gini_impurity['FEATURE'] = x_col\n",
    "    return gini_impurity"
   ]
  },
  {
   "cell_type": "markdown",
   "id": "7791876a-de33-4bde-8d0b-cdea462bedf8",
   "metadata": {},
   "source": [
    "Below we observe where is the cut for the decision value and how does the algorithm perform when the input features are uniformly and normally distributed. Note, in Machine Learning terminology in the below dataframe $X$ is the feature predicting $Y \\in \\{0,1\\}$."
   ]
  },
  {
   "cell_type": "code",
   "execution_count": 37,
   "id": "47c382d9-5994-4e20-8280-f8e63dde774e",
   "metadata": {},
   "outputs": [
    {
     "data": {
      "text/html": [
       "<div>\n",
       "<style scoped>\n",
       "    .dataframe tbody tr th:only-of-type {\n",
       "        vertical-align: middle;\n",
       "    }\n",
       "\n",
       "    .dataframe tbody tr th {\n",
       "        vertical-align: top;\n",
       "    }\n",
       "\n",
       "    .dataframe thead th {\n",
       "        text-align: right;\n",
       "    }\n",
       "</style>\n",
       "<table border=\"1\" class=\"dataframe\">\n",
       "  <thead>\n",
       "    <tr style=\"text-align: right;\">\n",
       "      <th></th>\n",
       "      <th>IMPURITY</th>\n",
       "      <th>DECISION_VALUE</th>\n",
       "      <th>FEATURE</th>\n",
       "    </tr>\n",
       "  </thead>\n",
       "  <tbody>\n",
       "    <tr>\n",
       "      <th>0</th>\n",
       "      <td>0.332208</td>\n",
       "      <td>64.318659</td>\n",
       "      <td>X</td>\n",
       "    </tr>\n",
       "  </tbody>\n",
       "</table>\n",
       "</div>"
      ],
      "text/plain": [
       "   IMPURITY  DECISION_VALUE FEATURE\n",
       "0  0.332208       64.318659       X"
      ]
     },
     "execution_count": 37,
     "metadata": {},
     "output_type": "execute_result"
    }
   ],
   "source": [
    "df_uniform = pd.DataFrame({'X' : np.random.uniform(0, 100, 100), 'Y' : np.random.choice([0,1], 100, p=[0.2, 0.8])})\n",
    "gini(df_uniform, 'X', 'Y')"
   ]
  },
  {
   "cell_type": "code",
   "execution_count": 39,
   "id": "9dbea269-f5a5-4d50-8fed-86840804ed48",
   "metadata": {},
   "outputs": [
    {
     "data": {
      "text/html": [
       "<div>\n",
       "<style scoped>\n",
       "    .dataframe tbody tr th:only-of-type {\n",
       "        vertical-align: middle;\n",
       "    }\n",
       "\n",
       "    .dataframe tbody tr th {\n",
       "        vertical-align: top;\n",
       "    }\n",
       "\n",
       "    .dataframe thead th {\n",
       "        text-align: right;\n",
       "    }\n",
       "</style>\n",
       "<table border=\"1\" class=\"dataframe\">\n",
       "  <thead>\n",
       "    <tr style=\"text-align: right;\">\n",
       "      <th></th>\n",
       "      <th>IMPURITY</th>\n",
       "      <th>DECISION_VALUE</th>\n",
       "      <th>FEATURE</th>\n",
       "    </tr>\n",
       "  </thead>\n",
       "  <tbody>\n",
       "    <tr>\n",
       "      <th>0</th>\n",
       "      <td>0.298756</td>\n",
       "      <td>0.003994</td>\n",
       "      <td>X</td>\n",
       "    </tr>\n",
       "  </tbody>\n",
       "</table>\n",
       "</div>"
      ],
      "text/plain": [
       "   IMPURITY  DECISION_VALUE FEATURE\n",
       "0  0.298756        0.003994       X"
      ]
     },
     "execution_count": 39,
     "metadata": {},
     "output_type": "execute_result"
    }
   ],
   "source": [
    "df_normal = pd.DataFrame({'X' : np.random.normal(0, 0.01, 100), 'Y' : np.random.choice([0,1], 100, p=[0.2, 0.8])})\n",
    "gini(df_normal, 'X', 'Y')"
   ]
  },
  {
   "cell_type": "code",
   "execution_count": null,
   "id": "0ef9600c-882e-4fa9-bf9d-e739ac134cf8",
   "metadata": {},
   "outputs": [],
   "source": []
  }
 ],
 "metadata": {
  "kernelspec": {
   "display_name": "Python 3 (ipykernel)",
   "language": "python",
   "name": "python3"
  },
  "language_info": {
   "codemirror_mode": {
    "name": "ipython",
    "version": 3
   },
   "file_extension": ".py",
   "mimetype": "text/x-python",
   "name": "python",
   "nbconvert_exporter": "python",
   "pygments_lexer": "ipython3",
   "version": "3.9.13"
  }
 },
 "nbformat": 4,
 "nbformat_minor": 5
}
