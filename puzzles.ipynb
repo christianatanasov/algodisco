{
 "cells": [
  {
   "cell_type": "code",
   "execution_count": 1,
   "metadata": {},
   "outputs": [],
   "source": [
    "import datetime\n",
    "import itertools\n",
    "import numpy as np\n",
    "import pandas as pd\n",
    "import matplotlib.pyplot as plt"
   ]
  },
  {
   "cell_type": "markdown",
   "metadata": {},
   "source": [
    "Find the transitive closure of a binary relation $R$ on a set $X$, that is the smallest relation on $X$ that contains $R$ and is transitive. For finite sets, we can construct the transitive closure step by step, starting from $R$ and adding all transitive edges that can be constructed from the initial set of relations. For any set $X$, the transitive closure is given by the following expression: $R^+=\\bigcup_{i=1}^{\\infty}R^i$; In the implementation below when $R=R^i$ the code terminates without being able to add any new transitive edges."
   ]
  },
  {
   "cell_type": "code",
   "execution_count": 2,
   "metadata": {},
   "outputs": [
    {
     "data": {
      "text/plain": [
       "{(1, 2), (1, 3), (1, 4), (2, 3), (2, 4), (3, 4)}"
      ]
     },
     "execution_count": 2,
     "metadata": {},
     "output_type": "execute_result"
    }
   ],
   "source": [
    "def transitive_closure(X):\n",
    "    \"\"\"\n",
    "    (x, y), (m, n); For y = m add (x, n) below\n",
    "    \"\"\"\n",
    "    R = set(X)\n",
    "    while True:\n",
    "        Ri = R.union(set((x,n) for x,y in R for m,n in R if m == y))\n",
    "        if Ri == R:\n",
    "            return R\n",
    "        R = Ri\n",
    "\n",
    "transitive_closure([(1,2), (2,3), (3,4)])"
   ]
  },
  {
   "cell_type": "markdown",
   "metadata": {},
   "source": [
    "Design an algorithm that finds the number of ways in which you can traverse $N$ metres by doing 1, 2, 3, 4 or 5 metre lengths. Assume that $N$ can be a very large number. What is the resulting complexity?"
   ]
  },
  {
   "cell_type": "code",
   "execution_count": 3,
   "metadata": {},
   "outputs": [
    {
     "data": {
      "text/plain": [
       "[(1, 5),\n",
       " (2, 4),\n",
       " (4, 2),\n",
       " (5, 1),\n",
       " (1, 2, 3),\n",
       " (1, 3, 2),\n",
       " (2, 1, 3),\n",
       " (2, 3, 1),\n",
       " (3, 1, 2),\n",
       " (3, 2, 1)]"
      ]
     },
     "execution_count": 3,
     "metadata": {},
     "output_type": "execute_result"
    }
   ],
   "source": [
    "def traverse(N):\n",
    "    jumps = range(1,6)\n",
    "    jump_options = [list(itertools.permutations(jumps, x)) for x in range(N)]\n",
    "    jump_options = [item for sublist in jump_options for item in sublist]\n",
    "    return [x for x in jump_options if sum(x)==N]\n",
    "traverse(6)"
   ]
  },
  {
   "cell_type": "markdown",
   "metadata": {},
   "source": [
    "Write an algorithm to merge overlapping intervals:"
   ]
  },
  {
   "cell_type": "code",
   "execution_count": 4,
   "metadata": {},
   "outputs": [
    {
     "data": {
      "text/plain": [
       "[[1, 7], [11, 17]]"
      ]
     },
     "execution_count": 4,
     "metadata": {},
     "output_type": "execute_result"
    }
   ],
   "source": [
    "def merge_intervals(intervals):\n",
    "    \"\"\"\n",
    "    [[1,4], [3,7], [11,17]] -> [[1,7], [11,17]]\n",
    "    \"\"\"\n",
    "    intervals.sort(key=lambda x:x[0])\n",
    "    result = [intervals[0]]\n",
    "    for interval in intervals[1:]:\n",
    "        if interval[0] <= result[-1][1]:\n",
    "            result[-1][1] = max(result[-1][1], interval[1])\n",
    "        else:\n",
    "            result.append(interval)\n",
    "    return result\n",
    "merge_intervals([[1,4], [3,7], [11,17]])"
   ]
  },
  {
   "cell_type": "markdown",
   "metadata": {},
   "source": [
    "From an ordered list of integers without gaps and starting from 2 filter out all non-prime numbers:"
   ]
  },
  {
   "cell_type": "code",
   "execution_count": 9,
   "metadata": {},
   "outputs": [
    {
     "data": {
      "text/plain": [
       "[2, 3, 5, 7, 11, 13, 17, 19, 23, 29, 31, 37, 41, 43, 47]"
      ]
     },
     "execution_count": 9,
     "metadata": {},
     "output_type": "execute_result"
    }
   ],
   "source": [
    "def remove_non_primes(l):\n",
    "    for x in l:\n",
    "        for y in l:\n",
    "            if y % x == 0 and x != y:\n",
    "                l.remove(y)\n",
    "    return l\n",
    "\n",
    "remove_non_primes(list(range(2,50)))"
   ]
  },
  {
   "cell_type": "markdown",
   "metadata": {},
   "source": [
    "A numeric array of length $N$ is given. Design a function that finds all positive numbers in the array that have their opposites in it as well."
   ]
  },
  {
   "cell_type": "code",
   "execution_count": 6,
   "metadata": {},
   "outputs": [
    {
     "data": {
      "text/plain": [
       "([9, 2, -17, 1, -13, -7, -1, 9, 6, -8, 10, -6, 7, -14, -17], [1, 7, 6])"
      ]
     },
     "execution_count": 6,
     "metadata": {},
     "output_type": "execute_result"
    }
   ],
   "source": [
    "def find_opposites(N):\n",
    "    N = pd.Series(sorted(set(N)))\n",
    "    vc = N.abs().value_counts() > 1\n",
    "    return vc.loc[vc].index.to_list()\n",
    "\n",
    "l = list(np.random.randint(-20, 20, 15))\n",
    "opp = find_opposites(l)\n",
    "l, opp"
   ]
  },
  {
   "cell_type": "markdown",
   "metadata": {},
   "source": [
    "Suppose we are collecting $n$ cards, where we draw from an infinite pool of uniformly distributed cards. On average how many draws $\\sum_{n}{E[X]}$ will it take to collect all $n$ cards?"
   ]
  },
  {
   "cell_type": "code",
   "execution_count": 7,
   "metadata": {},
   "outputs": [
    {
     "data": {
      "text/plain": [
       "(10000, 9.0, 97876.0, 92103.0, 100000000)"
      ]
     },
     "execution_count": 7,
     "metadata": {},
     "output_type": "execute_result"
    }
   ],
   "source": [
    "def sum_expected_vals(n):\n",
    "    return sum([1 / (1 - x/n) for x in range(n)])\n",
    "\n",
    "n = 10000\n",
    "n, np.round(np.log(n), 0), np.round(sum_expected_vals(n), 0), np.round(n * np.log(n), 0), n ** 2"
   ]
  },
  {
   "cell_type": "markdown",
   "metadata": {},
   "source": [
    "If <b>def f4()</b> gives $\\mathcal{U}\\{1,2,3,4\\}$, write a function <b>def f7()</b> s.t: <br>\n",
    "1. <b>f7</b> gives a number in $\\{3,4,5,6,7\\}$ and is $\\mathcal{N}(\\mu=5)$? <br>\n",
    "2. <b>f7</b> is $\\mathcal{U}\\{1,2,3,4,5,6,7\\}$?"
   ]
  },
  {
   "cell_type": "code",
   "execution_count": 15,
   "metadata": {},
   "outputs": [
    {
     "data": {
      "image/png": "[encoded data removed]",
      "text/plain": [
       "<Figure size 432x288 with 1 Axes>"
      ]
     },
     "metadata": {
      "needs_background": "light"
     },
     "output_type": "display_data"
    },
    {
     "data": {
      "image/png": "[encoded data removed]",
      "text/plain": [
       "<Figure size 432x288 with 1 Axes>"
      ]
     },
     "metadata": {
      "needs_background": "light"
     },
     "output_type": "display_data"
    },
    {
     "data": {
      "image/png": "[encoded data removed]",
      "text/plain": [
       "<Figure size 432x288 with 1 Axes>"
      ]
     },
     "metadata": {
      "needs_background": "light"
     },
     "output_type": "display_data"
    }
   ],
   "source": [
    "def f4():\n",
    "    return np.random.randint(1,5)\n",
    "\n",
    "plt.hist([f4() for x in range(1000)], bins=4, label = '$\\mathcal{U}\\{1,2,3,4\\}$')\n",
    "plt.legend()\n",
    "plt.show()\n",
    "\n",
    "def f7a():\n",
    "    x = f4() + f4()\n",
    "    while x > 7 or x == 2:\n",
    "        x = f4() + f4()\n",
    "    return x\n",
    "\n",
    "plt.hist([f7a() for x in range(10000)], bins=5, label = r'$\\mathcal{N}(\\mu=%.2g),\\ N=%d$' % (4.5, 1e4))\n",
    "plt.legend()\n",
    "plt.show()\n",
    "\n",
    "def f7b():\n",
    "    map7 = dict(zip([tuple(z) for z in [[tuple(y) for y in x] for x in np.split(np.array(list(itertools.product( \\\n",
    "                                                                       range(1,5), range(1,5)))[:-2]), 7)]], range(1,8)))\n",
    "    f4_tuple = (f4(), f4())\n",
    "    for x in map7:\n",
    "        if f4_tuple in x:\n",
    "            return map7[x]\n",
    "    else:\n",
    "        return f7b()\n",
    "\n",
    "plt.hist([f7b() for x in range(10000)], label = '$\\mathcal{U}\\{1,2,3,4,5,6,7\\}$', bins=7)\n",
    "plt.legend()\n",
    "plt.show()"
   ]
  },
  {
   "cell_type": "code",
   "execution_count": null,
   "metadata": {},
   "outputs": [],
   "source": []
  },
  {
   "cell_type": "code",
   "execution_count": null,
   "metadata": {},
   "outputs": [],
   "source": []
  }
 ],
 "metadata": {
  "kernelspec": {
   "display_name": "Python 3",
   "language": "python",
   "name": "python3"
  },
  "language_info": {
   "codemirror_mode": {
    "name": "ipython",
    "version": 3
   },
   "file_extension": ".py",
   "mimetype": "text/x-python",
   "name": "python",
   "nbconvert_exporter": "python",
   "pygments_lexer": "ipython3",
   "version": "3.8.5"
  }
 },
 "nbformat": 4,
 "nbformat_minor": 4
}
