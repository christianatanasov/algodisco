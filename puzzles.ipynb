{
 "cells": [
  {
   "cell_type": "code",
   "execution_count": 1,
   "metadata": {},
   "outputs": [],
   "source": [
    "import numpy as np\n",
    "import pandas as pd\n",
    "import matplotlib.pyplot as plt\n",
    "from puzzle_solutions import (transitive_closure, traverse, merge_intervals,\n",
    "                              remove_non_primes, find_opposites, sum_expected_vals,\n",
    "                              f4, f7a, f7b)"
   ]
  },
  {
   "cell_type": "markdown",
   "metadata": {},
   "source": [
    "Find the transitive closure of a binary relation $R$ on a set $X$, that is the smallest relation on $X$ that contains $R$ and is transitive. For finite sets, we can construct the transitive closure step by step, starting from $R$ and adding all transitive edges that can be constructed from the initial set of relations. For any set $X$, the transitive closure is given by the following expression: $R^+=\\bigcup_{i=1}^{\\infty}R^i$; In the implementation when $R=R^i$ the code terminates without being able to add any new transitive edges."
   ]
  },
  {
   "cell_type": "code",
   "execution_count": 2,
   "metadata": {},
   "outputs": [
    {
     "data": {
      "text/plain": [
       "{(1, 2), (1, 3), (1, 4), (2, 3), (2, 4), (3, 4)}"
      ]
     },
     "execution_count": 2,
     "metadata": {},
     "output_type": "execute_result"
    }
   ],
   "source": [
    "transitive_closure([(1,2), (2,3), (3,4)])"
   ]
  },
  {
   "cell_type": "markdown",
   "metadata": {},
   "source": [
    "Design an algorithm that finds the number of ways in which you can traverse $N$ metres by doing 1, 2, 3, 4 or 5 metre lengths. Assume that $N$ can be a very large number. What is the resulting complexity?"
   ]
  },
  {
   "cell_type": "code",
   "execution_count": 3,
   "metadata": {},
   "outputs": [
    {
     "data": {
      "text/plain": [
       "[(1, 5),\n",
       " (2, 4),\n",
       " (4, 2),\n",
       " (5, 1),\n",
       " (1, 2, 3),\n",
       " (1, 3, 2),\n",
       " (2, 1, 3),\n",
       " (2, 3, 1),\n",
       " (3, 1, 2),\n",
       " (3, 2, 1)]"
      ]
     },
     "execution_count": 3,
     "metadata": {},
     "output_type": "execute_result"
    }
   ],
   "source": [
    "traverse(6)"
   ]
  },
  {
   "cell_type": "markdown",
   "metadata": {},
   "source": [
    "Write an algorithm to merge overlapping intervals:"
   ]
  },
  {
   "cell_type": "code",
   "execution_count": 4,
   "metadata": {},
   "outputs": [
    {
     "data": {
      "text/plain": [
       "[[1, 7], [11, 17]]"
      ]
     },
     "execution_count": 4,
     "metadata": {},
     "output_type": "execute_result"
    }
   ],
   "source": [
    "merge_intervals([[1,4], [3,7], [11,17]])"
   ]
  },
  {
   "cell_type": "markdown",
   "metadata": {},
   "source": [
    "From an ordered list of integers without gaps and starting from 2 filter out all non-prime numbers:"
   ]
  },
  {
   "cell_type": "code",
   "execution_count": 5,
   "metadata": {},
   "outputs": [
    {
     "data": {
      "text/plain": [
       "[2, 3, 5, 7, 11, 13, 17, 19, 23, 29, 31, 37, 41, 43, 47]"
      ]
     },
     "execution_count": 5,
     "metadata": {},
     "output_type": "execute_result"
    }
   ],
   "source": [
    "remove_non_primes(list(range(2,50)))"
   ]
  },
  {
   "cell_type": "markdown",
   "metadata": {},
   "source": [
    "A numeric array of length $N$ is given. Design a function that finds all positive numbers in the array that have their opposites in it as well."
   ]
  },
  {
   "cell_type": "code",
   "execution_count": 6,
   "metadata": {},
   "outputs": [
    {
     "data": {
      "text/plain": [
       "([12, -11, -1, 13, -1, 8, -12, -3, 9, -18, 10, 6, 8, 18, -10], [12, 10, 18])"
      ]
     },
     "execution_count": 6,
     "metadata": {},
     "output_type": "execute_result"
    }
   ],
   "source": [
    "l = list(np.random.randint(-20, 20, 15))\n",
    "opp = find_opposites(l)\n",
    "l, opp"
   ]
  },
  {
   "cell_type": "markdown",
   "metadata": {},
   "source": [
    "Suppose we are collecting $n$ cards, where we draw from an infinite pool of uniformly distributed cards. On average how many draws $\\sum_{n}{E[X]}$ will it take to collect all $n$ cards?"
   ]
  },
  {
   "cell_type": "code",
   "execution_count": 7,
   "metadata": {},
   "outputs": [
    {
     "data": {
      "text/plain": [
       "(10000, 9.0, 97876.0, 92103.0, 100000000)"
      ]
     },
     "execution_count": 7,
     "metadata": {},
     "output_type": "execute_result"
    }
   ],
   "source": [
    "n = 10000\n",
    "n, np.round(np.log(n), 0), np.round(sum_expected_vals(n), 0), np.round(n * np.log(n), 0), n ** 2"
   ]
  },
  {
   "cell_type": "markdown",
   "metadata": {},
   "source": [
    "If <b>def f4()</b> gives $\\mathcal{U}\\{1,2,3,4\\}$, write a function <b>def f7()</b> s.t: <br>\n",
    "1. <b>f7</b> gives a number in $\\{3,4,5,6,7\\}$ and is $\\mathcal{N}(\\mu=5)$? <br>\n",
    "2. <b>f7</b> is $\\mathcal{U}\\{1,2,3,4,5,6,7\\}$?"
   ]
  },
  {
   "cell_type": "code",
   "execution_count": 8,
   "metadata": {},
   "outputs": [
    {
     "data": {
      "image/png": "[encoded data removed]",
      "text/plain": [
       "<Figure size 432x288 with 1 Axes>"
      ]
     },
     "metadata": {
      "needs_background": "light"
     },
     "output_type": "display_data"
    },
    {
     "data": {
      "image/png": "[encoded data removed]",
      "text/plain": [
       "<Figure size 432x288 with 1 Axes>"
      ]
     },
     "metadata": {
      "needs_background": "light"
     },
     "output_type": "display_data"
    },
    {
     "data": {
      "image/png": "[encoded data removed]",
      "text/plain": [
       "<Figure size 432x288 with 1 Axes>"
      ]
     },
     "metadata": {
      "needs_background": "light"
     },
     "output_type": "display_data"
    }
   ],
   "source": [
    "n = 10000\n",
    "plt.hist([f4() for x in range(n)], bins=4, label = '$\\mathcal{U}\\{1,2,3,4\\}$')\n",
    "plt.legend()\n",
    "plt.show()\n",
    "\n",
    "f7_normal = [f7a() for x in range(n)]\n",
    "plt.hist(f7_normal, bins=5, label = r'$\\mathcal{N}(\\mu=%.2g),\\ N=%d$' % (np.mean(f7_normal), n))\n",
    "plt.legend()\n",
    "plt.show()\n",
    "\n",
    "plt.hist([f7b() for x in range(n)], label = '$\\mathcal{U}\\{1,2,3,4,5,6,7\\}$', bins=7)\n",
    "plt.legend()\n",
    "plt.show()"
   ]
  },
  {
   "cell_type": "code",
   "execution_count": null,
   "metadata": {},
   "outputs": [],
   "source": []
  },
  {
   "cell_type": "code",
   "execution_count": null,
   "metadata": {},
   "outputs": [],
   "source": []
  }
 ],
 "metadata": {
  "kernelspec": {
   "display_name": "Python 3",
   "language": "python",
   "name": "python3"
  },
  "language_info": {
   "codemirror_mode": {
    "name": "ipython",
    "version": 3
   },
   "file_extension": ".py",
   "mimetype": "text/x-python",
   "name": "python",
   "nbconvert_exporter": "python",
   "pygments_lexer": "ipython3",
   "version": "3.8.5"
  }
 },
 "nbformat": 4,
 "nbformat_minor": 4
}
