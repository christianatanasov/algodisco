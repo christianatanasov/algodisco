{
 "cells": [
  {
   "cell_type": "markdown",
   "metadata": {},
   "source": [
    "The <b>Black-Scholes</b> is a mathematical method to model the dynamics of a derivative instrument. Its formula estimates the theoretical value of European-style options and shows that the option has a unique price given the security and its expected return."
   ]
  },
  {
   "cell_type": "code",
   "execution_count": 1,
   "metadata": {},
   "outputs": [],
   "source": [
    "import datetime\n",
    "import numpy as np\n",
    "import pandas as pd\n",
    "import matplotlib.pyplot as plt\n",
    "from scipy.stats import norm\n",
    "from pandas_datareader.data import DataReader"
   ]
  },
  {
   "cell_type": "markdown",
   "metadata": {},
   "source": [
    "The <b>Black-Scholes call option price $C$ </b>is calculated by subtracting the present value of the strike price $K$ multiplied by the risk-adjusted probability that the option will be exercised $N(d_2)$, of the product of the stock price $S$ and the probability of receiving the stock at the expiration of the option contract $N(d_1)$."
   ]
  },
  {
   "cell_type": "markdown",
   "metadata": {},
   "source": [
    "$$C = SN(d_1) - K e^{-rt} N(d_2)$$"
   ]
  },
  {
   "cell_type": "markdown",
   "metadata": {},
   "source": [
    "$$d_1 = \\frac{ln_K^S + (r+ \\frac{\\sigma^2}{2} \\Delta t) }{\\sigma  \\sqrt{\\Delta t}}$$"
   ]
  },
  {
   "cell_type": "markdown",
   "metadata": {},
   "source": [
    "$$d_2 = d_1 - \\sigma \\sqrt{\\Delta t}$$"
   ]
  },
  {
   "cell_type": "markdown",
   "metadata": {},
   "source": [
    "where:\n",
    "1. $C$ - Call option price\n",
    "2. $S$ - Current stock price (or other underlying instrument)\n",
    "3. $K$ - Strike price\n",
    "4. $r$ - Risk-free interest rate\n",
    "5. $\\Delta t$ - Time to maturity (T-t)\n",
    "6. $N$ - Normal distribution\n",
    "7. $\\sigma$ - Volatility of the asset\n",
    "8. $N(d_1)$ - Probability of receiving the stock at the expiration of our option contract. (The expected value of the receipt of the stock is contingent on the exercise of the option. It is, therefore, the product of the conditional expected value of the receipt of the stock given that exercise has occurred times the probability of exercise)\n",
    "9. $N(d_2)$ - Risk-adjusted probability that the option will be exercised"
   ]
  },
  {
   "cell_type": "markdown",
   "metadata": {},
   "source": [
    "Assumptions:\n",
    "1. Constant volatility is assumed, although this may not be the case. Replacing this term with stochastic-process generated volatility would reduce error.\n",
    "2. Returns are assumed to be normally distributed.\n",
    "3. Risk-free rate is hypothetical assuming that all payment obligations are met.\n",
    "4. The underlying stock does not pay dividends during the option contract. This can be adjusted by subtracting the discounted value of a future dividend from the stock price.\n",
    "5. Assumes that markets function efficiently and are perfectly liquid, with the stock price moving independently and possibility to buy or sell any amount at any given time."
   ]
  },
  {
   "cell_type": "code",
   "execution_count": 2,
   "metadata": {},
   "outputs": [],
   "source": [
    "def d1(S, K, r, dt, sigma):\n",
    "    return (np.log(S/K) + (r + np.sqrt(sigma) * .5 * dt)) / (sigma * np.sqrt(dt))\n",
    "\n",
    "def d2(S, K, r, dt, sigma):\n",
    "    return d1(S, K, r, dt, sigma) - sigma * np.sqrt(dt)\n",
    "\n",
    "def call(S, K, r, dt, sigma):\n",
    "    return S * norm.cdf(d1(S, K, r, dt, sigma)) - K * np.exp(-r * dt) * norm.cdf(d2(S, K, r, dt, sigma))"
   ]
  },
  {
   "cell_type": "markdown",
   "metadata": {},
   "source": [
    "<b>Vanilla Options</b> are financial instruments that give the holder the right, but not the obligation, to buy or sell an underlying asset at a predetermined price within a given time window. <b>European options</b> are a type of vanilla options that can be exercised at the expiry date. Such options are used by individuals or companies to hedge their exposure in a particular asset or to speculate on the price movement of a financial instrument."
   ]
  },
  {
   "cell_type": "markdown",
   "metadata": {},
   "source": [
    "In the below data cell, we are querying price data for 1 year for a sample stock in our case Tesla from Yahoo Finance. And we set the risk-free rate to a 30 year U.S. treasury yield:"
   ]
  },
  {
   "cell_type": "code",
   "execution_count": 3,
   "metadata": {},
   "outputs": [
    {
     "data": {
      "text/html": [
       "<div>\n",
       "<style scoped>\n",
       "    .dataframe tbody tr th:only-of-type {\n",
       "        vertical-align: middle;\n",
       "    }\n",
       "\n",
       "    .dataframe tbody tr th {\n",
       "        vertical-align: top;\n",
       "    }\n",
       "\n",
       "    .dataframe thead th {\n",
       "        text-align: right;\n",
       "    }\n",
       "</style>\n",
       "<table border=\"1\" class=\"dataframe\">\n",
       "  <thead>\n",
       "    <tr style=\"text-align: right;\">\n",
       "      <th></th>\n",
       "      <th>High</th>\n",
       "      <th>Low</th>\n",
       "      <th>Open</th>\n",
       "      <th>Close</th>\n",
       "      <th>Volume</th>\n",
       "      <th>Adj Close</th>\n",
       "      <th>rel_day_returns</th>\n",
       "    </tr>\n",
       "    <tr>\n",
       "      <th>Date</th>\n",
       "      <th></th>\n",
       "      <th></th>\n",
       "      <th></th>\n",
       "      <th></th>\n",
       "      <th></th>\n",
       "      <th></th>\n",
       "      <th></th>\n",
       "    </tr>\n",
       "  </thead>\n",
       "  <tbody>\n",
       "    <tr>\n",
       "      <th>2021-09-30</th>\n",
       "      <td>263.043335</td>\n",
       "      <td>258.333344</td>\n",
       "      <td>260.333344</td>\n",
       "      <td>258.493347</td>\n",
       "      <td>53868000.0</td>\n",
       "      <td>258.493347</td>\n",
       "      <td>NaN</td>\n",
       "    </tr>\n",
       "    <tr>\n",
       "      <th>2021-10-01</th>\n",
       "      <td>260.260010</td>\n",
       "      <td>254.529999</td>\n",
       "      <td>259.466675</td>\n",
       "      <td>258.406677</td>\n",
       "      <td>51094200.0</td>\n",
       "      <td>258.406677</td>\n",
       "      <td>-0.000335</td>\n",
       "    </tr>\n",
       "    <tr>\n",
       "      <th>2021-10-04</th>\n",
       "      <td>268.989990</td>\n",
       "      <td>258.706665</td>\n",
       "      <td>265.500000</td>\n",
       "      <td>260.510010</td>\n",
       "      <td>91449900.0</td>\n",
       "      <td>260.510010</td>\n",
       "      <td>0.008140</td>\n",
       "    </tr>\n",
       "    <tr>\n",
       "      <th>2021-10-05</th>\n",
       "      <td>265.769989</td>\n",
       "      <td>258.066681</td>\n",
       "      <td>261.600006</td>\n",
       "      <td>260.196655</td>\n",
       "      <td>55297800.0</td>\n",
       "      <td>260.196655</td>\n",
       "      <td>-0.001203</td>\n",
       "    </tr>\n",
       "    <tr>\n",
       "      <th>2021-10-06</th>\n",
       "      <td>262.220001</td>\n",
       "      <td>257.739990</td>\n",
       "      <td>258.733337</td>\n",
       "      <td>260.916656</td>\n",
       "      <td>43898400.0</td>\n",
       "      <td>260.916656</td>\n",
       "      <td>0.002767</td>\n",
       "    </tr>\n",
       "    <tr>\n",
       "      <th>...</th>\n",
       "      <td>...</td>\n",
       "      <td>...</td>\n",
       "      <td>...</td>\n",
       "      <td>...</td>\n",
       "      <td>...</td>\n",
       "      <td>...</td>\n",
       "      <td>...</td>\n",
       "    </tr>\n",
       "    <tr>\n",
       "      <th>2022-09-26</th>\n",
       "      <td>284.089996</td>\n",
       "      <td>270.309998</td>\n",
       "      <td>271.829987</td>\n",
       "      <td>276.010010</td>\n",
       "      <td>58076900.0</td>\n",
       "      <td>276.010010</td>\n",
       "      <td>0.002470</td>\n",
       "    </tr>\n",
       "    <tr>\n",
       "      <th>2022-09-27</th>\n",
       "      <td>288.670013</td>\n",
       "      <td>277.510010</td>\n",
       "      <td>283.839996</td>\n",
       "      <td>282.940002</td>\n",
       "      <td>61925200.0</td>\n",
       "      <td>282.940002</td>\n",
       "      <td>0.025108</td>\n",
       "    </tr>\n",
       "    <tr>\n",
       "      <th>2022-09-28</th>\n",
       "      <td>289.000000</td>\n",
       "      <td>277.570007</td>\n",
       "      <td>283.079987</td>\n",
       "      <td>287.809998</td>\n",
       "      <td>54664800.0</td>\n",
       "      <td>287.809998</td>\n",
       "      <td>0.017212</td>\n",
       "    </tr>\n",
       "    <tr>\n",
       "      <th>2022-09-29</th>\n",
       "      <td>283.649994</td>\n",
       "      <td>265.779999</td>\n",
       "      <td>282.760010</td>\n",
       "      <td>268.209991</td>\n",
       "      <td>77393100.0</td>\n",
       "      <td>268.209991</td>\n",
       "      <td>-0.068101</td>\n",
       "    </tr>\n",
       "    <tr>\n",
       "      <th>2022-09-30</th>\n",
       "      <td>273.725006</td>\n",
       "      <td>262.470001</td>\n",
       "      <td>266.144989</td>\n",
       "      <td>272.950012</td>\n",
       "      <td>25949853.0</td>\n",
       "      <td>272.950012</td>\n",
       "      <td>0.017673</td>\n",
       "    </tr>\n",
       "  </tbody>\n",
       "</table>\n",
       "<p>253 rows × 7 columns</p>\n",
       "</div>"
      ],
      "text/plain": [
       "                  High         Low        Open       Close      Volume  \\\n",
       "Date                                                                     \n",
       "2021-09-30  263.043335  258.333344  260.333344  258.493347  53868000.0   \n",
       "2021-10-01  260.260010  254.529999  259.466675  258.406677  51094200.0   \n",
       "2021-10-04  268.989990  258.706665  265.500000  260.510010  91449900.0   \n",
       "2021-10-05  265.769989  258.066681  261.600006  260.196655  55297800.0   \n",
       "2021-10-06  262.220001  257.739990  258.733337  260.916656  43898400.0   \n",
       "...                ...         ...         ...         ...         ...   \n",
       "2022-09-26  284.089996  270.309998  271.829987  276.010010  58076900.0   \n",
       "2022-09-27  288.670013  277.510010  283.839996  282.940002  61925200.0   \n",
       "2022-09-28  289.000000  277.570007  283.079987  287.809998  54664800.0   \n",
       "2022-09-29  283.649994  265.779999  282.760010  268.209991  77393100.0   \n",
       "2022-09-30  273.725006  262.470001  266.144989  272.950012  25949853.0   \n",
       "\n",
       "             Adj Close  rel_day_returns  \n",
       "Date                                     \n",
       "2021-09-30  258.493347              NaN  \n",
       "2021-10-01  258.406677        -0.000335  \n",
       "2021-10-04  260.510010         0.008140  \n",
       "2021-10-05  260.196655        -0.001203  \n",
       "2021-10-06  260.916656         0.002767  \n",
       "...                ...              ...  \n",
       "2022-09-26  276.010010         0.002470  \n",
       "2022-09-27  282.940002         0.025108  \n",
       "2022-09-28  287.809998         0.017212  \n",
       "2022-09-29  268.209991        -0.068101  \n",
       "2022-09-30  272.950012         0.017673  \n",
       "\n",
       "[253 rows x 7 columns]"
      ]
     },
     "metadata": {},
     "output_type": "display_data"
    },
    {
     "data": {
      "text/plain": [
       "3.746999979019165"
      ]
     },
     "metadata": {},
     "output_type": "display_data"
    }
   ],
   "source": [
    "date = datetime.datetime.now()\n",
    "date_m1 = date - datetime.timedelta(365)\n",
    "\n",
    "df = DataReader('TSLA', 'yahoo', date_m1, date).sort_values('Date')\n",
    "df['rel_day_returns'] = (df['Close'] - df['Close'].shift(1)) / df['Close'].shift(1)\n",
    "display(df)\n",
    "\n",
    "trsry30_yield = DataReader('^TNX', 'yahoo', date - datetime.timedelta(1), date)['Close'].iloc[0]\n",
    "display(trsry30_yield)"
   ]
  },
  {
   "cell_type": "code",
   "execution_count": 4,
   "metadata": {},
   "outputs": [],
   "source": [
    "S = df['Close'].iloc[-1]\n",
    "K = 270\n",
    "r = trsry30_yield / 100.\n",
    "dt = 30 / 360\n",
    "sigma = np.sqrt(df.index.unique().shape[0]) * df['rel_day_returns'].std()"
   ]
  },
  {
   "cell_type": "code",
   "execution_count": 5,
   "metadata": {},
   "outputs": [
    {
     "data": {
      "text/plain": [
       "21.339509976201498"
      ]
     },
     "execution_count": 5,
     "metadata": {},
     "output_type": "execute_result"
    }
   ],
   "source": [
    "C = call(S, K, r, dt, sigma)\n",
    "C"
   ]
  },
  {
   "cell_type": "markdown",
   "metadata": {},
   "source": [
    "Parameters impacting option price:"
   ]
  },
  {
   "cell_type": "code",
   "execution_count": 6,
   "metadata": {},
   "outputs": [
    {
     "name": "stderr",
     "output_type": "stream",
     "text": [
      "<ipython-input-2-f5ebf365f591>:2: RuntimeWarning: divide by zero encountered in double_scalars\n",
      "  return (np.log(S/K) + (r + np.sqrt(sigma) * .5 * dt)) / (sigma * np.sqrt(dt))\n"
     ]
    }
   ],
   "source": [
    "expiry_time_range = range(1,361)\n",
    "expiry_time_effect = [call(S, K, r, tx/360, sigma) for tx in expiry_time_range]\n",
    "\n",
    "volatility_range = np.linspace(0, 0.7, 50)\n",
    "volatility_effect = [call(S, K, r, dt, sigmax) for sigmax in volatility_range]\n",
    "\n",
    "strike_range = range(250, 291)\n",
    "strike_effect = [call(S, Kx, r, dt, sigma) for Kx in strike_range]\n",
    "\n",
    "underlying_price_range = range(250, 291)\n",
    "underlying_price_effect = [call(Sx, K, r, dt, sigma) for Sx in underlying_price_range]"
   ]
  },
  {
   "cell_type": "code",
   "execution_count": 7,
   "metadata": {},
   "outputs": [
    {
     "data": {
      "image/png": "[encoded data removed]",
      "text/plain": [
       "<Figure size 432x288 with 1 Axes>"
      ]
     },
     "metadata": {
      "needs_background": "light"
     },
     "output_type": "display_data"
    },
    {
     "data": {
      "image/png": "[encoded data removed]",
      "text/plain": [
       "<Figure size 432x288 with 1 Axes>"
      ]
     },
     "metadata": {
      "needs_background": "light"
     },
     "output_type": "display_data"
    },
    {
     "data": {
      "image/png": "[encoded data removed]",
      "text/plain": [
       "<Figure size 432x288 with 1 Axes>"
      ]
     },
     "metadata": {
      "needs_background": "light"
     },
     "output_type": "display_data"
    },
    {
     "data": {
      "image/png": "[encoded data removed]",
      "text/plain": [
       "<Figure size 432x288 with 1 Axes>"
      ]
     },
     "metadata": {
      "needs_background": "light"
     },
     "output_type": "display_data"
    }
   ],
   "source": [
    "plt.plot(expiry_time_range, expiry_time_effect)\n",
    "plt.xlabel('Expiry time in days')\n",
    "plt.ylabel('Option price')\n",
    "plt.show()\n",
    "\n",
    "plt.plot(volatility_range, volatility_effect)\n",
    "plt.xlabel('Volatility')\n",
    "plt.ylabel('Option price')\n",
    "plt.show()\n",
    "\n",
    "plt.plot(strike_range, strike_effect)\n",
    "plt.xlabel('Strike price')\n",
    "plt.ylabel('Option price')\n",
    "plt.show()\n",
    "\n",
    "plt.plot(underlying_price_range, underlying_price_effect)\n",
    "plt.xlabel('Underlying price')\n",
    "plt.ylabel('Option price')\n",
    "plt.show()\n"
   ]
  },
  {
   "cell_type": "markdown",
   "metadata": {},
   "source": [
    "<b>Monte Carlo simulation for a vanilla option;</b> In this case we simulate the price of the underlying by multiplying it with a random sample from a normal distribution. We only consider simulated paths where the price is above the strike price $K$ otherwise it would be equally economical to buy the underlying at the expiry of the contract. The difference of the stock price and the strike price gives us a contract price for that simulation. The average of all simulations would give us a more realistic option price, should the stock have evolved differently. This method can be used to test for other uncertainty in the underlying, or other more complicated features."
   ]
  },
  {
   "cell_type": "code",
   "execution_count": 8,
   "metadata": {},
   "outputs": [],
   "source": [
    "simulated_option_prices = []\n",
    "simulations = int(1e4)\n",
    "for i in range(simulations):\n",
    "    sim_price = S * np.exp(r * dt - .5 * np.power(sigma,2) * dt + sigma * np.random.randn() * np.sqrt(dt))\n",
    "    simulated_option_prices.append((sim_price - K) * np.where(sim_price > K, 1, 0) * np.exp(-r))"
   ]
  },
  {
   "cell_type": "code",
   "execution_count": 9,
   "metadata": {},
   "outputs": [
    {
     "name": "stdout",
     "output_type": "stream",
     "text": [
      "21.569408585024103 21.339509976201498\n"
     ]
    }
   ],
   "source": [
    "mc_C = pd.Series(simulated_option_prices).mean()\n",
    "print(mc_C, C)"
   ]
  },
  {
   "cell_type": "code",
   "execution_count": null,
   "metadata": {},
   "outputs": [],
   "source": []
  },
  {
   "cell_type": "code",
   "execution_count": null,
   "metadata": {},
   "outputs": [],
   "source": []
  }
 ],
 "metadata": {
  "kernelspec": {
   "display_name": "Python 3",
   "language": "python",
   "name": "python3"
  },
  "language_info": {
   "codemirror_mode": {
    "name": "ipython",
    "version": 3
   },
   "file_extension": ".py",
   "mimetype": "text/x-python",
   "name": "python",
   "nbconvert_exporter": "python",
   "pygments_lexer": "ipython3",
   "version": "3.8.5"
  }
 },
 "nbformat": 4,
 "nbformat_minor": 4
}
