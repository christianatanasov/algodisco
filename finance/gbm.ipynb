{
 "cells": [
  {
   "cell_type": "code",
   "execution_count": 1,
   "id": "62b7982d-a1ab-4b72-93dd-fa5f2cf7c9b2",
   "metadata": {},
   "outputs": [],
   "source": [
    "import warnings\n",
    "import datetime\n",
    "import itertools\n",
    "import numpy as np\n",
    "import scipy as sp\n",
    "import cvxpy as cp\n",
    "import pandas as pd\n",
    "import yfinance as yf\n",
    "import seaborn as sns\n",
    "import ipywidgets as widgets\n",
    "import matplotlib.pyplot as plt\n",
    "from functools import reduce\n",
    "from kit import interval_dict, annualize_returns, annualize_vol, get_yf_ts, get_usd_mcap\n",
    "\n",
    "warnings.filterwarnings('ignore')"
   ]
  },
  {
   "cell_type": "markdown",
   "id": "e94d28bd-ce23-4088-8302-28aee9dbdbb8",
   "metadata": {},
   "source": [
    "Here we introduce a method to model the behaviour of returns over time. Geometric Brownian Motion (GBM) is a continuous-time stochastic process where the log of its quantity follows Brownian motion with drift. It is decomposed as the sum of the change of the average value of the process $\\mu$ (drift rate) and a constant volatility $\\sigma$ (shock). For a stock price $S_t$:\n",
    "$$d S_t=S_t(\\mu dt + \\sigma\\sqrt{dt}W_t)$$"
   ]
  },
  {
   "cell_type": "code",
   "execution_count": 48,
   "id": "794c694f-5748-43ce-af15-35494a12a460",
   "metadata": {},
   "outputs": [],
   "source": [
    "def gbm(s_0=100, mu=0.07, sigma=0.15, freq=12, years=50, n_scenarios=100):\n",
    "    dt = 1 / freq\n",
    "    n_steps = int(years * freq)\n",
    "    r = np.random.normal((1 + mu) ** dt, sigma * np.sqrt(dt), (n_steps, n_scenarios)) # Note, technically the Weiner process W_t is generated from the np.random.nromal call\n",
    "    prices = s_0 * pd.DataFrame(r).cumprod()\n",
    "    return prices"
   ]
  },
  {
   "cell_type": "code",
   "execution_count": 46,
   "id": "e383f417-acbe-4d04-a7e8-2c068fe23455",
   "metadata": {},
   "outputs": [
    {
     "data": {
      "application/vnd.jupyter.widget-view+json": {
       "model_id": "dfab371023de4183b60231e8c677a702",
       "version_major": 2,
       "version_minor": 0
      },
      "text/plain": [
       "interactive(children=(FloatSlider(value=0.12, description='mu', max=0.25, step=0.01), FloatSlider(value=0.17, …"
      ]
     },
     "metadata": {},
     "output_type": "display_data"
    }
   ],
   "source": [
    "gbm_wrap = lambda mu, sigma, freq, years, n_scenarios: gbm(100, mu, sigma, freq, years, n_scenarios).plot(legend=False, figsize=(11,5))\n",
    "widgets.interactive(gbm_wrap, mu=(0, 0.25, 0.01), sigma=(0, 0.35, 0.01), freq=(1, 12, 1), years=(2, 50, 1), n_scenarios=(1, 150, 1))"
   ]
  },
  {
   "cell_type": "code",
   "execution_count": null,
   "id": "f3e9b9a9-fa58-4a51-9952-83f662963cfe",
   "metadata": {},
   "outputs": [],
   "source": []
  },
  {
   "cell_type": "code",
   "execution_count": null,
   "id": "9560f5d2-909f-44e8-88e7-422418dd3c37",
   "metadata": {},
   "outputs": [],
   "source": []
  },
  {
   "cell_type": "code",
   "execution_count": null,
   "id": "56da3403-663d-49e1-8f5d-896a5b8c917e",
   "metadata": {},
   "outputs": [],
   "source": []
  }
 ],
 "metadata": {
  "kernelspec": {
   "display_name": "Python 3 (ipykernel)",
   "language": "python",
   "name": "python3"
  },
  "language_info": {
   "codemirror_mode": {
    "name": "ipython",
    "version": 3
   },
   "file_extension": ".py",
   "mimetype": "text/x-python",
   "name": "python",
   "nbconvert_exporter": "python",
   "pygments_lexer": "ipython3",
   "version": "3.9.13"
  }
 },
 "nbformat": 4,
 "nbformat_minor": 5
}
