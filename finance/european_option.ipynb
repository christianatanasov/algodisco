{
 "cells": [
  {
   "cell_type": "markdown",
   "metadata": {},
   "source": [
    "The <b>Black-Scholes</b> is a mathematical method to model the dynamics of a derivative instrument. Its formula estimates the theoretical value of European-style options and shows that the option has a unique price given the security and its expected return."
   ]
  },
  {
   "cell_type": "code",
   "execution_count": 1,
   "metadata": {},
   "outputs": [],
   "source": [
    "import datetime\n",
    "import numpy as np\n",
    "import pandas as pd\n",
    "import matplotlib.pyplot as plt\n",
    "from scipy.stats import norm\n",
    "from pandas_datareader.data import DataReader"
   ]
  },
  {
   "cell_type": "markdown",
   "metadata": {},
   "source": [
    "<b>Vanilla Options</b> are financial instruments that give the holder the right, but not the obligation, to buy or sell an underlying asset at a predetermined (strike) price within a given time window. <b>European options</b> are a type of vanilla options that can be exercised at the expiry date. Such options are used by individuals or companies to hedge their exposure in a particular asset or to speculate on the price movement of a financial instrument."
   ]
  },
  {
   "cell_type": "markdown",
   "metadata": {},
   "source": [
    "The <b>Black-Scholes call option price $C$ </b>is calculated by subtracting the value of the strike price $K$ multiplied by the risk-adjusted probability that the option will be exercised $N(d_2)$, of the product of the stock price $S$ and the probability of receiving the stock at the expiration of the option contract $N(d_1)$."
   ]
  },
  {
   "cell_type": "markdown",
   "metadata": {},
   "source": [
    "$$C = SN(d_1) - K e^{-rt} N(d_2)$$"
   ]
  },
  {
   "cell_type": "markdown",
   "metadata": {},
   "source": [
    "$$d_1 = \\frac{ln_K^S + (r+ \\frac{\\sigma^2}{2} \\Delta t) }{\\sigma  \\sqrt{\\Delta t}}$$"
   ]
  },
  {
   "cell_type": "markdown",
   "metadata": {},
   "source": [
    "$$d_2 = d_1 - \\sigma \\sqrt{\\Delta t}$$"
   ]
  },
  {
   "cell_type": "markdown",
   "metadata": {},
   "source": [
    "where:\n",
    "1. $C$ - Call option price\n",
    "2. $S$ - Current stock price (or other underlying instrument)\n",
    "3. $K$ - Strike price\n",
    "4. $r$ - Risk-free interest rate\n",
    "5. $\\Delta t$ - Time to maturity (T-t)\n",
    "6. $N$ - Normal distribution\n",
    "7. $\\sigma$ - Volatility of the asset\n",
    "8. $N(d_1)$ - Probability of receiving the stock at the expiration of our option contract. (The expected value of the receipt of the stock is contingent on the exercise of the option. It is, therefore, the product of the conditional expected value of the receipt of the stock given that exercise has occurred times the probability of exercise)\n",
    "9. $N(d_2)$ - Risk-adjusted probability that the option will be exercised"
   ]
  },
  {
   "cell_type": "markdown",
   "metadata": {},
   "source": [
    "Assumptions:\n",
    "1. Constant volatility is assumed, although this may not be the case. Replacing this term with stochastic-process generated volatility would reduce error.\n",
    "2. Returns are assumed to be normally distributed.\n",
    "3. Risk-free rate is hypothetical assuming that all payment obligations are met.\n",
    "4. The underlying stock does not pay dividends during the option contract. This can be adjusted by subtracting the discounted value of a future dividend from the stock price.\n",
    "5. Assumes that markets function efficiently and are perfectly liquid, with the stock price moving independently and possibility to buy or sell any amount at any given time."
   ]
  },
  {
   "cell_type": "code",
   "execution_count": 2,
   "metadata": {},
   "outputs": [],
   "source": [
    "def d1(S, K, r, dt, sigma):\n",
    "    return (np.log(S/K) + (r + np.sqrt(sigma) * .5 * dt)) / (sigma * np.sqrt(dt))\n",
    "\n",
    "def d2(S, K, r, dt, sigma):\n",
    "    return d1(S, K, r, dt, sigma) - sigma * np.sqrt(dt)\n",
    "\n",
    "def call(S, K, r, dt, sigma):\n",
    "    return S * norm.cdf(d1(S, K, r, dt, sigma)) - K * np.exp(-r * dt) * norm.cdf(d2(S, K, r, dt, sigma))"
   ]
  },
  {
   "cell_type": "markdown",
   "metadata": {},
   "source": [
    "In the below data cell, we are querying price data for 1 year for a sample stock in our case Tesla from Yahoo Finance. And we set the risk-free rate to a 30 year U.S. treasury yield:"
   ]
  },
  {
   "cell_type": "code",
   "execution_count": 3,
   "metadata": {},
   "outputs": [
    {
     "data": {
      "text/html": [
       "<div>\n",
       "<style scoped>\n",
       "    .dataframe tbody tr th:only-of-type {\n",
       "        vertical-align: middle;\n",
       "    }\n",
       "\n",
       "    .dataframe tbody tr th {\n",
       "        vertical-align: top;\n",
       "    }\n",
       "\n",
       "    .dataframe thead th {\n",
       "        text-align: right;\n",
       "    }\n",
       "</style>\n",
       "<table border=\"1\" class=\"dataframe\">\n",
       "  <thead>\n",
       "    <tr style=\"text-align: right;\">\n",
       "      <th></th>\n",
       "      <th>High</th>\n",
       "      <th>Low</th>\n",
       "      <th>Open</th>\n",
       "      <th>Close</th>\n",
       "      <th>Volume</th>\n",
       "      <th>Adj Close</th>\n",
       "      <th>rel_day_returns</th>\n",
       "    </tr>\n",
       "    <tr>\n",
       "      <th>Date</th>\n",
       "      <th></th>\n",
       "      <th></th>\n",
       "      <th></th>\n",
       "      <th></th>\n",
       "      <th></th>\n",
       "      <th></th>\n",
       "      <th></th>\n",
       "    </tr>\n",
       "  </thead>\n",
       "  <tbody>\n",
       "    <tr>\n",
       "      <th>2021-10-01</th>\n",
       "      <td>260.260010</td>\n",
       "      <td>254.529999</td>\n",
       "      <td>259.466675</td>\n",
       "      <td>258.406677</td>\n",
       "      <td>51094200.0</td>\n",
       "      <td>258.406677</td>\n",
       "      <td>NaN</td>\n",
       "    </tr>\n",
       "    <tr>\n",
       "      <th>2021-10-04</th>\n",
       "      <td>268.989990</td>\n",
       "      <td>258.706665</td>\n",
       "      <td>265.500000</td>\n",
       "      <td>260.510010</td>\n",
       "      <td>91449900.0</td>\n",
       "      <td>260.510010</td>\n",
       "      <td>0.008140</td>\n",
       "    </tr>\n",
       "    <tr>\n",
       "      <th>2021-10-05</th>\n",
       "      <td>265.769989</td>\n",
       "      <td>258.066681</td>\n",
       "      <td>261.600006</td>\n",
       "      <td>260.196655</td>\n",
       "      <td>55297800.0</td>\n",
       "      <td>260.196655</td>\n",
       "      <td>-0.001203</td>\n",
       "    </tr>\n",
       "    <tr>\n",
       "      <th>2021-10-06</th>\n",
       "      <td>262.220001</td>\n",
       "      <td>257.739990</td>\n",
       "      <td>258.733337</td>\n",
       "      <td>260.916656</td>\n",
       "      <td>43898400.0</td>\n",
       "      <td>260.916656</td>\n",
       "      <td>0.002767</td>\n",
       "    </tr>\n",
       "    <tr>\n",
       "      <th>2021-10-07</th>\n",
       "      <td>268.333344</td>\n",
       "      <td>261.126678</td>\n",
       "      <td>261.820007</td>\n",
       "      <td>264.536682</td>\n",
       "      <td>57587400.0</td>\n",
       "      <td>264.536682</td>\n",
       "      <td>0.013874</td>\n",
       "    </tr>\n",
       "    <tr>\n",
       "      <th>...</th>\n",
       "      <td>...</td>\n",
       "      <td>...</td>\n",
       "      <td>...</td>\n",
       "      <td>...</td>\n",
       "      <td>...</td>\n",
       "      <td>...</td>\n",
       "      <td>...</td>\n",
       "    </tr>\n",
       "    <tr>\n",
       "      <th>2022-09-26</th>\n",
       "      <td>284.089996</td>\n",
       "      <td>270.309998</td>\n",
       "      <td>271.829987</td>\n",
       "      <td>276.010010</td>\n",
       "      <td>58076900.0</td>\n",
       "      <td>276.010010</td>\n",
       "      <td>0.002470</td>\n",
       "    </tr>\n",
       "    <tr>\n",
       "      <th>2022-09-27</th>\n",
       "      <td>288.670013</td>\n",
       "      <td>277.510010</td>\n",
       "      <td>283.839996</td>\n",
       "      <td>282.940002</td>\n",
       "      <td>61925200.0</td>\n",
       "      <td>282.940002</td>\n",
       "      <td>0.025108</td>\n",
       "    </tr>\n",
       "    <tr>\n",
       "      <th>2022-09-28</th>\n",
       "      <td>289.000000</td>\n",
       "      <td>277.570007</td>\n",
       "      <td>283.079987</td>\n",
       "      <td>287.809998</td>\n",
       "      <td>54664800.0</td>\n",
       "      <td>287.809998</td>\n",
       "      <td>0.017212</td>\n",
       "    </tr>\n",
       "    <tr>\n",
       "      <th>2022-09-29</th>\n",
       "      <td>283.649994</td>\n",
       "      <td>265.779999</td>\n",
       "      <td>282.760010</td>\n",
       "      <td>268.209991</td>\n",
       "      <td>77620600.0</td>\n",
       "      <td>268.209991</td>\n",
       "      <td>-0.068101</td>\n",
       "    </tr>\n",
       "    <tr>\n",
       "      <th>2022-09-30</th>\n",
       "      <td>275.570007</td>\n",
       "      <td>262.470001</td>\n",
       "      <td>266.149994</td>\n",
       "      <td>265.250000</td>\n",
       "      <td>67517800.0</td>\n",
       "      <td>265.250000</td>\n",
       "      <td>-0.011036</td>\n",
       "    </tr>\n",
       "  </tbody>\n",
       "</table>\n",
       "<p>252 rows × 7 columns</p>\n",
       "</div>"
      ],
      "text/plain": [
       "                  High         Low        Open       Close      Volume  \\\n",
       "Date                                                                     \n",
       "2021-10-01  260.260010  254.529999  259.466675  258.406677  51094200.0   \n",
       "2021-10-04  268.989990  258.706665  265.500000  260.510010  91449900.0   \n",
       "2021-10-05  265.769989  258.066681  261.600006  260.196655  55297800.0   \n",
       "2021-10-06  262.220001  257.739990  258.733337  260.916656  43898400.0   \n",
       "2021-10-07  268.333344  261.126678  261.820007  264.536682  57587400.0   \n",
       "...                ...         ...         ...         ...         ...   \n",
       "2022-09-26  284.089996  270.309998  271.829987  276.010010  58076900.0   \n",
       "2022-09-27  288.670013  277.510010  283.839996  282.940002  61925200.0   \n",
       "2022-09-28  289.000000  277.570007  283.079987  287.809998  54664800.0   \n",
       "2022-09-29  283.649994  265.779999  282.760010  268.209991  77620600.0   \n",
       "2022-09-30  275.570007  262.470001  266.149994  265.250000  67517800.0   \n",
       "\n",
       "             Adj Close  rel_day_returns  \n",
       "Date                                     \n",
       "2021-10-01  258.406677              NaN  \n",
       "2021-10-04  260.510010         0.008140  \n",
       "2021-10-05  260.196655        -0.001203  \n",
       "2021-10-06  260.916656         0.002767  \n",
       "2021-10-07  264.536682         0.013874  \n",
       "...                ...              ...  \n",
       "2022-09-26  276.010010         0.002470  \n",
       "2022-09-27  282.940002         0.025108  \n",
       "2022-09-28  287.809998         0.017212  \n",
       "2022-09-29  268.209991        -0.068101  \n",
       "2022-09-30  265.250000        -0.011036  \n",
       "\n",
       "[252 rows x 7 columns]"
      ]
     },
     "metadata": {},
     "output_type": "display_data"
    }
   ],
   "source": [
    "date = datetime.datetime.now()\n",
    "date_m1 = date - datetime.timedelta(365)\n",
    "\n",
    "df = DataReader('TSLA', 'yahoo', date_m1, date).sort_values('Date')\n",
    "df['rel_day_returns'] = (df['Close'] - df['Close'].shift(1)) / df['Close'].shift(1)\n",
    "display(df)\n",
    "\n",
    "trsry30_yield = DataReader('^TYX', 'yahoo', date - datetime.timedelta(1), date)['Close'].iloc[0]"
   ]
  },
  {
   "cell_type": "markdown",
   "metadata": {},
   "source": [
    "We set our strike price to be 5% lower than the current price and an option exercise date 30 days from today. If one was purchasing this option to speculate on the price of the underlying asset, they would not want the price to drop more than 5% or rather 5% minus the option contract cost $C$. Naturally, if the price increased that would be beneficial."
   ]
  },
  {
   "cell_type": "code",
   "execution_count": 4,
   "metadata": {},
   "outputs": [
    {
     "name": "stdout",
     "output_type": "stream",
     "text": [
      "Current price: 265.25\n",
      "Strike price: 251.9875\n",
      "Risk free rate: 0.0377\n"
     ]
    }
   ],
   "source": [
    "S = df['Close'].iloc[-1]\n",
    "K = S * 0.95\n",
    "r = trsry30_yield / 100.\n",
    "dt = 30 / 360\n",
    "sigma = np.sqrt(df.index.unique().shape[0]) * df['rel_day_returns'].std()\n",
    "round_dec = 4 #Display round decimals\n",
    "print('Current price:', np.round(S, round_dec))\n",
    "print('Strike price:', np.round(K, round_dec))\n",
    "print('Risk free rate:', np.round(r, round_dec))"
   ]
  },
  {
   "cell_type": "code",
   "execution_count": 5,
   "metadata": {},
   "outputs": [
    {
     "name": "stdout",
     "output_type": "stream",
     "text": [
      "Calculated option contract price: 26.3505\n"
     ]
    }
   ],
   "source": [
    "C = call(S, K, r, dt, sigma)\n",
    "print('Calculated option contract price:', np.round(C, round_dec))"
   ]
  },
  {
   "cell_type": "markdown",
   "metadata": {},
   "source": [
    "Parameters impacting option price:"
   ]
  },
  {
   "cell_type": "code",
   "execution_count": 6,
   "metadata": {},
   "outputs": [
    {
     "name": "stderr",
     "output_type": "stream",
     "text": [
      "<ipython-input-2-f5ebf365f591>:2: RuntimeWarning: divide by zero encountered in double_scalars\n",
      "  return (np.log(S/K) + (r + np.sqrt(sigma) * .5 * dt)) / (sigma * np.sqrt(dt))\n"
     ]
    }
   ],
   "source": [
    "expiry_time_range = range(1,361)\n",
    "expiry_time_effect = [call(S, K, r, tx/360, sigma) for tx in expiry_time_range]\n",
    "\n",
    "volatility_range = np.linspace(0, 0.7, 50)\n",
    "volatility_effect = [call(S, K, r, dt, sigmax) for sigmax in volatility_range]\n",
    "\n",
    "strike_range = range(250, 291)\n",
    "strike_effect = [call(S, Kx, r, dt, sigma) for Kx in strike_range]\n",
    "\n",
    "underlying_price_range = range(250, 291)\n",
    "underlying_price_effect = [call(Sx, K, r, dt, sigma) for Sx in underlying_price_range]"
   ]
  },
  {
   "cell_type": "code",
   "execution_count": 7,
   "metadata": {},
   "outputs": [
    {
     "data": {
      "image/png": "[encoded data removed]",
      "text/plain": [
       "<Figure size 432x288 with 1 Axes>"
      ]
     },
     "metadata": {
      "needs_background": "light"
     },
     "output_type": "display_data"
    },
    {
     "data": {
      "image/png": "[encoded data removed]",
      "text/plain": [
       "<Figure size 432x288 with 1 Axes>"
      ]
     },
     "metadata": {
      "needs_background": "light"
     },
     "output_type": "display_data"
    },
    {
     "data": {
      "image/png": "[encoded data removed]",
      "text/plain": [
       "<Figure size 432x288 with 1 Axes>"
      ]
     },
     "metadata": {
      "needs_background": "light"
     },
     "output_type": "display_data"
    },
    {
     "data": {
      "image/png": "[encoded data removed]",
      "text/plain": [
       "<Figure size 432x288 with 1 Axes>"
      ]
     },
     "metadata": {
      "needs_background": "light"
     },
     "output_type": "display_data"
    }
   ],
   "source": [
    "plt.plot(expiry_time_range, expiry_time_effect)\n",
    "plt.xlabel('Expiry time in days')\n",
    "plt.ylabel('Option price')\n",
    "plt.show()\n",
    "\n",
    "plt.plot(volatility_range, volatility_effect)\n",
    "plt.xlabel('Volatility')\n",
    "plt.ylabel('Option price')\n",
    "plt.show()\n",
    "\n",
    "plt.plot(strike_range, strike_effect)\n",
    "plt.xlabel('Strike price')\n",
    "plt.ylabel('Option price')\n",
    "plt.show()\n",
    "\n",
    "plt.plot(underlying_price_range, underlying_price_effect)\n",
    "plt.xlabel('Underlying price')\n",
    "plt.ylabel('Option price')\n",
    "plt.show()\n"
   ]
  },
  {
   "cell_type": "markdown",
   "metadata": {},
   "source": [
    "<b>Monte Carlo simulation for a vanilla option;</b> In this case we simulate the price of the underlying by multiplying it with a random sample from a normal distribution. We only consider simulated paths where the price is above the strike price $K$ otherwise it would be equally economical or better to buy the underlying at the expiry of the contract. The difference of the stock price and the strike price gives us a contract price for that simulation. The average of all simulations would give us a more realistic option price, should the stock have evolved differently. This method can be used to test for other uncertainty in the underlying, or other more complicated features."
   ]
  },
  {
   "cell_type": "code",
   "execution_count": 8,
   "metadata": {},
   "outputs": [],
   "source": [
    "simulated_option_prices = []\n",
    "simulations = int(1e5)\n",
    "for i in range(simulations):\n",
    "    sim_price = S * np.exp(r * dt - .5 * np.power(sigma,2) * dt + sigma * np.random.randn() * np.sqrt(dt))\n",
    "    simulated_option_prices.append((sim_price - K) * np.where(sim_price > K, 1, 0) * np.exp(-r))"
   ]
  },
  {
   "cell_type": "code",
   "execution_count": 9,
   "metadata": {},
   "outputs": [
    {
     "name": "stdout",
     "output_type": "stream",
     "text": [
      "Monte Carlo simulated option price: 26.1432  Single run option price: 26.3505\n"
     ]
    }
   ],
   "source": [
    "mc_C = pd.Series(simulated_option_prices).mean()\n",
    "print(\"Monte Carlo simulated option price:\", np.round(mc_C, round_dec), \" Single run option price:\", np.round(C, round_dec))"
   ]
  },
  {
   "cell_type": "markdown",
   "metadata": {},
   "source": [
    "The value of the option largely depends on the future realised price volatility of the underlying or $C=f(\\sigma,\\cdot)$. $f$ would be monotonically increasing in $\\sigma$ - higher volatility gives a higher option price. Meaning there could be a inverse function $f^{-1}$ which could produce the volatility $\\sigma$ given an option price $C$."
   ]
  },
  {
   "cell_type": "markdown",
   "metadata": {},
   "source": [
    "The value $\\sigma_{\\bar{C}}$ is the volatility implied by the market price $\\bar{C}$. <b>Implied Volatility</b> can be computed by recalculating the option value for varying volatility (and all other input parameters fixed) until we find a value closest to the input within some tolerance $\\epsilon$. $1_A(\\sigma) =\n",
    "    \\begin{cases}\n",
    "      1 & \\text{if $(\\bar{C} - f(\\sigma,\\cdot)) < \\epsilon$}\\\\\n",
    "      0 & \\text{otherwise}\n",
    "    \\end{cases}$; The set $A$ is subset of the set of all volatility values that we want to run for - $V$, such that they generate an option price within $\\epsilon$ tolerance of our option price $\\bar{C}$.\n",
    "<br>Note, there is only one implied volatility if our test space is continuous and $\\epsilon = 0$. In the discrete case we approximate the implied volatility given our tolerance threshold."
   ]
  },
  {
   "cell_type": "code",
   "execution_count": 10,
   "metadata": {},
   "outputs": [],
   "source": [
    "def call_implied_vol(C, S, K, r, dt, tol, n):\n",
    "    for sigma in np.linspace(0, 1, n): #n is the cardinality of set V above\n",
    "        if (C - call(S, K, r, dt, sigma)) < tol:\n",
    "            return sigma\n",
    "    return None"
   ]
  },
  {
   "cell_type": "code",
   "execution_count": 11,
   "metadata": {},
   "outputs": [
    {
     "name": "stderr",
     "output_type": "stream",
     "text": [
      "<ipython-input-2-f5ebf365f591>:2: RuntimeWarning: divide by zero encountered in double_scalars\n",
      "  return (np.log(S/K) + (r + np.sqrt(sigma) * .5 * dt)) / (sigma * np.sqrt(dt))\n"
     ]
    },
    {
     "name": "stdout",
     "output_type": "stream",
     "text": [
      "Actual vol: 0.6447  Implied vol: 0.6448\n"
     ]
    }
   ],
   "source": [
    "tol, n = 1e-4, int(1e4)\n",
    "print(\"Actual vol:\",np.round(sigma, round_dec), \" Implied vol:\", np.round(call_implied_vol(C, S, K, r, dt, tol, n), round_dec))"
   ]
  },
  {
   "cell_type": "markdown",
   "metadata": {},
   "source": [
    "Besides the volatility, it is important to understand how all other input parameters impact the price. Few cells above I have plotted the relation of input variables and option price, but a mathematical derivation can also be given. In the finance vocabulary, these are called <b>the Greeks or the 4 factors for measuring risk in the option contract.</b>"
   ]
  },
  {
   "cell_type": "markdown",
   "metadata": {},
   "source": [
    "<b>Delta:</b> The sensitivity of the option price change relative to the change of the underlying's price. $\\Delta = \\frac{\\partial{C}}{\\partial{S}}$ <br> Without showing the derivative, we can evaluate the main equation in relative changes. For a small change in $S$, $d_1$ and $d_2$ would not change much given they only compute $ln_K^S$. The term $SN(d_1)$ represents the value of the expected option price at expiration and it is directly impacted by $\\Delta S$. If $S$ goes up, $SN(d_1)$ would go up relatively equal as $S$ and the second term in the equation will remain roughly the same if we discount the minor impact on $d_2$. So, we can conclude that: $\\Delta = N(d_1)$"
   ]
  },
  {
   "cell_type": "code",
   "execution_count": 12,
   "metadata": {},
   "outputs": [
    {
     "name": "stdout",
     "output_type": "stream",
     "text": [
      "Delta: 0.7446\n"
     ]
    }
   ],
   "source": [
    "def call_delta(S, K, r, dt, sigma):\n",
    "    return norm.cdf(d1(S, K, r, dt, sigma))\n",
    "print(\"Delta:\", np.round(call_delta(S, K, r, dt, sigma), round_dec))"
   ]
  },
  {
   "cell_type": "markdown",
   "metadata": {},
   "source": [
    "<b>Gamma:</b> Measures the rate of change in the delta with respect to changes in the underlying price. That is basically the second derivative of the function with respect to $S$. $\\Gamma = \\frac {\\partial \\Delta} {\\partial S} = \\frac {\\partial^2 C} {\\partial S^2}$ The derivative of the CDF of $d_1$ would be the PDF of $d_1$ and in the denominator we are left with $S \\sigma \\sqrt{\\Delta t}$ or $\\Gamma = \\frac {N'(d_1)} {S \\sigma \\sqrt{\\Delta t}}$."
   ]
  },
  {
   "cell_type": "code",
   "execution_count": 13,
   "metadata": {},
   "outputs": [
    {
     "name": "stdout",
     "output_type": "stream",
     "text": [
      "Gamma: 0.0065\n"
     ]
    }
   ],
   "source": [
    "def call_gamma(S, K, r, dt, sigma):\n",
    "    return norm.pdf(d1(S, K, r, dt, sigma)) / (S * sigma * np.sqrt(dt))\n",
    "print(\"Gamma:\", np.round(call_gamma(S, K, r, dt, sigma), round_dec))"
   ]
  },
  {
   "cell_type": "markdown",
   "metadata": {},
   "source": [
    "<b>Vega:</b> Measures the sensitivity to volatility. Derivative of the option value with respect to the volatility of the underlying: $\\nu = \\frac {\\partial C} {\\partial \\sigma} = SN'(d_1)\\sqrt \\Delta t$"
   ]
  },
  {
   "cell_type": "code",
   "execution_count": 14,
   "metadata": {},
   "outputs": [
    {
     "name": "stdout",
     "output_type": "stream",
     "text": [
      "Vega: 0.2461\n"
     ]
    }
   ],
   "source": [
    "def call_vega(S, K, r, dt, sigma):\n",
    "    return S * norm.pdf(d1(S, K, r, dt, sigma)) * np.sqrt(dt) * 0.01\n",
    "print(\"Vega:\", np.round(call_vega(S, K, r, dt, sigma), round_dec))"
   ]
  },
  {
   "cell_type": "markdown",
   "metadata": {},
   "source": [
    "<b>Theta:</b> Measures the sensitivity of the option value to the maturity time (time decay): $\\Theta = \\frac {\\partial C}{\\partial t}$. The risk of passing time represents loss of the value of an option (decay) hence theta is expressed as a negative figure. The derivation of this is quite mathematically involved, so in the calculation below I will only put the final result or $\\Theta = - \\frac {SN'(d_1)\\sigma} {2\\sqrt{\\Delta t}} - rKe^{-r\\Delta t}N(d_2)$:"
   ]
  },
  {
   "cell_type": "code",
   "execution_count": 15,
   "metadata": {},
   "outputs": [
    {
     "name": "stdout",
     "output_type": "stream",
     "text": [
      "Theta: -1.0163\n"
     ]
    }
   ],
   "source": [
    "def call_theta(S, K, r, dt, sigma):\n",
    "    dd1 = -(S * norm.pdf(d1(S, K, r, dt, sigma)) * sigma) / (2 * np.sqrt(dt))\n",
    "    dd2 = r * K * np.exp(-r * dt) * norm.cdf(d2(S, K, r, dt, sigma))\n",
    "    return (dd1 - dd2) * 0.01\n",
    "print(\"Theta:\", np.round(call_theta(S, K, r, dt, sigma), round_dec))"
   ]
  },
  {
   "cell_type": "code",
   "execution_count": null,
   "metadata": {},
   "outputs": [],
   "source": []
  },
  {
   "cell_type": "code",
   "execution_count": null,
   "metadata": {},
   "outputs": [],
   "source": []
  }
 ],
 "metadata": {
  "kernelspec": {
   "display_name": "Python 3",
   "language": "python",
   "name": "python3"
  },
  "language_info": {
   "codemirror_mode": {
    "name": "ipython",
    "version": 3
   },
   "file_extension": ".py",
   "mimetype": "text/x-python",
   "name": "python",
   "nbconvert_exporter": "python",
   "pygments_lexer": "ipython3",
   "version": "3.8.5"
  }
 },
 "nbformat": 4,
 "nbformat_minor": 4
}
